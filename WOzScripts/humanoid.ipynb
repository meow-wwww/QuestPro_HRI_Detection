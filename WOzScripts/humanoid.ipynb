{
 "cells": [
  {
   "cell_type": "code",
   "execution_count": null,
   "metadata": {},
   "outputs": [],
   "source": [
    "import time"
   ]
  },
  {
   "cell_type": "markdown",
   "metadata": {},
   "source": [
    "# Session 1"
   ]
  },
  {
   "cell_type": "markdown",
   "metadata": {},
   "source": [
    "    [You and your conversational partner ordered the same type of drink]"
   ]
  },
  {
   "cell_type": "code",
   "execution_count": null,
   "metadata": {},
   "outputs": [],
   "source": [
    "!python client.py \"Start recording\"\n",
    "time.sleep(3)"
   ]
  },
  {
   "cell_type": "code",
   "execution_count": null,
   "metadata": {},
   "outputs": [],
   "source": [
    "# {R} Robot approaches to deliver a cup of drink\n",
    "!python client.py \"Humanoid - Current drink: user2\"\n",
    "!python client.py \"Humanoid - Move towards the table (half)\"\n",
    "time.sleep(18)"
   ]
  },
  {
   "cell_type": "markdown",
   "metadata": {},
   "source": [
    "    {H} [2a] Signal awareness of the robot approaching"
   ]
  },
  {
   "cell_type": "markdown",
   "metadata": {},
   "source": [
    "---"
   ]
  },
  {
   "cell_type": "code",
   "execution_count": null,
   "metadata": {},
   "outputs": [],
   "source": [
    "# !python client.py \"Save context - 1\"\n",
    "!python client.py \"Humanoid - Move to the table user1#Signal the robot to serve your partner\"\n",
    "time.sleep(12)"
   ]
  },
  {
   "cell_type": "markdown",
   "metadata": {},
   "source": [
    "    {H} [2bii] Signal the robot to give it to the partner first"
   ]
  },
  {
   "cell_type": "code",
   "execution_count": null,
   "metadata": {},
   "outputs": [],
   "source": [
    "!python client.py \"Humanoid - Move to the table user2\" \n",
    "time.sleep(20)"
   ]
  },
  {
   "cell_type": "markdown",
   "metadata": {},
   "source": [
    "---"
   ]
  },
  {
   "cell_type": "code",
   "execution_count": null,
   "metadata": {},
   "outputs": [],
   "source": [
    "# !python client.py \"Save context - 2\"\n",
    "!python client.py \"Humanoid - Send out drink\"\n",
    "time.sleep(25)\n",
    "!python client.py \"Humanoid - Audio: AskForFeedback#Do not want to rate\"\n",
    "time.sleep(13)"
   ]
  },
  {
   "cell_type": "markdown",
   "metadata": {},
   "source": [
    "    {H} [1b] Provide the feedback: do not want to provide feedback"
   ]
  },
  {
   "cell_type": "markdown",
   "metadata": {},
   "source": [
    "---"
   ]
  },
  {
   "cell_type": "code",
   "execution_count": null,
   "metadata": {},
   "outputs": [],
   "source": [
    "# {R} Robot tries to info the wait time of the other drink\n",
    "!python client.py \"Humanoid - Audio: NextDrinkTime\"\n",
    "time.sleep(1)\n",
    "!python client.py \"Instruction - Interrupt it\""
   ]
  },
  {
   "cell_type": "markdown",
   "metadata": {},
   "source": [
    "    {H} [2bii] Instruct the robot to be quiet"
   ]
  },
  {
   "cell_type": "code",
   "execution_count": null,
   "metadata": {},
   "outputs": [],
   "source": [
    "!python client.py \"Humanoid - Audio info stop\"\n",
    "time.sleep(1)\n",
    "!python client.py \"Humanoid - Move away\" \n",
    "time.sleep(12)"
   ]
  },
  {
   "cell_type": "markdown",
   "metadata": {},
   "source": [
    "----"
   ]
  },
  {
   "cell_type": "markdown",
   "metadata": {},
   "source": [
    "# Session 2"
   ]
  },
  {
   "cell_type": "code",
   "execution_count": null,
   "metadata": {},
   "outputs": [],
   "source": [
    "# !python client.py \"Save context - 4\"\n",
    "\n",
    "!python client.py \"Humanoid - Current drink: wrong\"\n",
    "!python client.py \"Humanoid - Move to the table user1#Signal it the drink is wrong\"\n",
    "time.sleep(15)"
   ]
  },
  {
   "cell_type": "markdown",
   "metadata": {},
   "source": [
    "    {H} [2bi] Correct the robot"
   ]
  },
  {
   "cell_type": "code",
   "execution_count": null,
   "metadata": {},
   "outputs": [],
   "source": [
    "!python client.py \"Humanoid - Move away\"\n",
    "time.sleep(15)"
   ]
  },
  {
   "cell_type": "markdown",
   "metadata": {},
   "source": [
    "---"
   ]
  },
  {
   "cell_type": "code",
   "execution_count": null,
   "metadata": {},
   "outputs": [],
   "source": [
    "!python client.py \"Humanoid - Current drink: user1\"\n",
    "!python client.py \"Humanoid - Move to the table user1 collision\"\n",
    "time.sleep(2)\n",
    "!python client.py \"Instruction - The robot is rushing towards you! Stop it!\"\n",
    "time.sleep(15)"
   ]
  },
  {
   "cell_type": "markdown",
   "metadata": {},
   "source": [
    "    {H} [2bi] Signal an emergency stop"
   ]
  },
  {
   "cell_type": "markdown",
   "metadata": {},
   "source": [
    "---"
   ]
  },
  {
   "cell_type": "code",
   "execution_count": null,
   "metadata": {},
   "outputs": [],
   "source": [
    "# {R} Robot re-adjusts the route and ask where to place the drink\n",
    "!python client.py \"Humanoid - Move to the table user1 from collision\"\n",
    "time.sleep(15)\n",
    "!python client.py \"Humanoid - Audio: WhereShouldIPlace#Indicate the place\"\n",
    "time.sleep(10)"
   ]
  },
  {
   "cell_type": "markdown",
   "metadata": {},
   "source": [
    "    {H} [1a] Instruct the robot where to place / hand-over the drink"
   ]
  },
  {
   "cell_type": "markdown",
   "metadata": {},
   "source": [
    "---"
   ]
  },
  {
   "cell_type": "code",
   "execution_count": null,
   "metadata": {},
   "outputs": [],
   "source": [
    "# {R} Robot places the drink in a dangerous manner\n",
    "!python client.py \"Humanoid - Send out drink dangerous\"\n",
    "time.sleep(20)"
   ]
  },
  {
   "cell_type": "markdown",
   "metadata": {},
   "source": [
    "    {H} [2bi] Correct the robot"
   ]
  },
  {
   "cell_type": "markdown",
   "metadata": {},
   "source": [
    "---"
   ]
  },
  {
   "cell_type": "code",
   "execution_count": null,
   "metadata": {},
   "outputs": [],
   "source": [
    "# {R} Robot finishes the job and asks for feedback rating\n",
    "!python client.py \"Humanoid - Audio: AskForFeedback#Rate: bad\"\n",
    "time.sleep(10)"
   ]
  },
  {
   "cell_type": "markdown",
   "metadata": {},
   "source": [
    "    {H} [1b] Provide the feedback: bad"
   ]
  },
  {
   "cell_type": "markdown",
   "metadata": {},
   "source": [
    "---"
   ]
  },
  {
   "cell_type": "markdown",
   "metadata": {},
   "source": [
    "# Session 3"
   ]
  },
  {
   "cell_type": "code",
   "execution_count": null,
   "metadata": {},
   "outputs": [],
   "source": [
    "# {R} Robot leaves -- robot tries to come over to collect the empty cups\n",
    "!python client.py \"Humanoid - Move around\"\n",
    "# !sleep 10\n",
    "time.sleep(12)\n",
    "!python client.py \"Instruction - Signal it to move away\"\n",
    "time.sleep(5)"
   ]
  },
  {
   "cell_type": "markdown",
   "metadata": {},
   "source": [
    "    {H} [2bii] Signal the robot not to approach"
   ]
  },
  {
   "cell_type": "code",
   "execution_count": null,
   "metadata": {},
   "outputs": [],
   "source": [
    "# !python client.py \"Coffee - User2 drink up\"\n",
    "!python client.py \"Humanoid - Stop wandering\"\n",
    "time.sleep(1)\n",
    "!python client.py \"Humanoid - Move away\"\n",
    "time.sleep(15)"
   ]
  },
  {
   "cell_type": "markdown",
   "metadata": {},
   "source": [
    "---"
   ]
  },
  {
   "cell_type": "code",
   "execution_count": null,
   "metadata": {},
   "outputs": [],
   "source": [
    "# !python client.py \"Save context - 10\"\n",
    "!python client.py \"Instruction - Signal the robot to come over.\"\n",
    "time.sleep(3)"
   ]
  },
  {
   "cell_type": "markdown",
   "metadata": {},
   "source": [
    "    user2 says: I have finished my drink\n",
    "    {H} [2a] Attract the robot's attention"
   ]
  },
  {
   "cell_type": "code",
   "execution_count": null,
   "metadata": {},
   "outputs": [],
   "source": [
    "!python client.py \"Humanoid - Move to the table user1#\"\n",
    "time.sleep(15)"
   ]
  },
  {
   "cell_type": "markdown",
   "metadata": {},
   "source": [
    "---"
   ]
  },
  {
   "cell_type": "code",
   "execution_count": null,
   "metadata": {},
   "outputs": [],
   "source": [
    "# {R} Robot comes over and ask “How may I help you?”\n",
    "!python client.py \"Humanoid - Audio: HowMayIHelpYou#Signal it to collect your partner's cup\"\n",
    "time.sleep(8)"
   ]
  },
  {
   "cell_type": "markdown",
   "metadata": {},
   "source": [
    "    {H} [1a] Signal the robot where to park (and what to collect) "
   ]
  },
  {
   "cell_type": "code",
   "execution_count": null,
   "metadata": {},
   "outputs": [],
   "source": [
    "# {R} Robot finishes the job and asks for feedback rating\n",
    "!python client.py \"Humanoid - Move to the table user2\"\n",
    "time.sleep(25)"
   ]
  },
  {
   "cell_type": "markdown",
   "metadata": {},
   "source": [
    "---"
   ]
  },
  {
   "cell_type": "code",
   "execution_count": null,
   "metadata": {},
   "outputs": [],
   "source": [
    "!python client.py \"Humanoid - Collect drink\"\n",
    "time.sleep(20)\n",
    "!python client.py \"Humanoid - Audio: AskForFeedback#Rate: good\"\n",
    "time.sleep(8)"
   ]
  },
  {
   "cell_type": "markdown",
   "metadata": {},
   "source": [
    "    {H} [1b] Provide the feedback: good"
   ]
  },
  {
   "cell_type": "code",
   "execution_count": null,
   "metadata": {},
   "outputs": [],
   "source": [
    "!python client.py \"Humanoid - Move away\"\n",
    "time.sleep(10)"
   ]
  },
  {
   "cell_type": "markdown",
   "metadata": {},
   "source": [
    "---"
   ]
  },
  {
   "cell_type": "code",
   "execution_count": null,
   "metadata": {},
   "outputs": [],
   "source": [
    "!python client.py \"Stop recording - HumanoidSession3\"\n",
    "time.sleep(3)"
   ]
  },
  {
   "cell_type": "code",
   "execution_count": null,
   "metadata": {},
   "outputs": [],
   "source": []
  }
 ],
 "metadata": {
  "kernelspec": {
   "display_name": "gesturegpt",
   "language": "python",
   "name": "python3"
  },
  "language_info": {
   "codemirror_mode": {
    "name": "ipython",
    "version": 3
   },
   "file_extension": ".py",
   "mimetype": "text/x-python",
   "name": "python",
   "nbconvert_exporter": "python",
   "pygments_lexer": "ipython3",
   "version": "3.8.3"
  }
 },
 "nbformat": 4,
 "nbformat_minor": 2
}
