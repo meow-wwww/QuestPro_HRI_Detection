{
 "cells": [
  {
   "cell_type": "code",
   "execution_count": 40,
   "metadata": {},
   "outputs": [],
   "source": [
    "# TODO. standing scenario: near the whiteboard"
   ]
  },
  {
   "cell_type": "code",
   "execution_count": 41,
   "metadata": {},
   "outputs": [],
   "source": [
    "# TODO: gaze, avatar, furnitures, set in Unity but unseen by the user"
   ]
  },
  {
   "cell_type": "code",
   "execution_count": 101,
   "metadata": {},
   "outputs": [
    {
     "name": "stdout",
     "output_type": "stream",
     "text": [
      "Received from server: Received\n"
     ]
    }
   ],
   "source": [
    "!python client.py \"Waiter - Current drink: user2\""
   ]
  },
  {
   "cell_type": "code",
   "execution_count": 102,
   "metadata": {},
   "outputs": [
    {
     "name": "stdout",
     "output_type": "stream",
     "text": [
      "Received from server: Received\n"
     ]
    }
   ],
   "source": [
    "# Robot approaches to deliver a cup of drink\n",
    "!python client.py \"Waiter - Move towards the table (half)\""
   ]
  },
  {
   "cell_type": "code",
   "execution_count": 103,
   "metadata": {},
   "outputs": [
    {
     "name": "stdout",
     "output_type": "stream",
     "text": [
      "Received from server: Received\n"
     ]
    }
   ],
   "source": [
    "# Robot tries to serve the cup of drink to you\n",
    "!python client.py \"Waiter - Move to the table user1\" \n",
    "# TODO: collide with furnitures"
   ]
  },
  {
   "cell_type": "code",
   "execution_count": 104,
   "metadata": {},
   "outputs": [
    {
     "name": "stdout",
     "output_type": "stream",
     "text": [
      "Received from server: Received\n"
     ]
    },
    {
     "name": "stderr",
     "output_type": "stream",
     "text": [
      "'sleep' �����ڲ����ⲿ���Ҳ���ǿ����еĳ���\n",
      "���������ļ���\n"
     ]
    }
   ],
   "source": [
    "# Robot tries to serve the cup of drink to the other one\n",
    "!python client.py \"Waiter - Move to the table user2\"\n",
    "!sleep 2\n"
   ]
  },
  {
   "cell_type": "code",
   "execution_count": 105,
   "metadata": {},
   "outputs": [
    {
     "name": "stdout",
     "output_type": "stream",
     "text": [
      "Received from server: Received\n"
     ]
    }
   ],
   "source": [
    "!python client.py \"Waiter - Plate out\" \n",
    "# TO-DO: drink move to the table. (magically move the drink to the table, to the right place)\n"
   ]
  },
  {
   "cell_type": "code",
   "execution_count": 106,
   "metadata": {},
   "outputs": [
    {
     "name": "stdout",
     "output_type": "stream",
     "text": [
      "Received from server: Received\n",
      "Received from server: Received\n"
     ]
    }
   ],
   "source": [
    "!python client.py \"Waiter - Current drink: detach\"\n",
    "!python client.py \"Waiter - Plate back\""
   ]
  },
  {
   "cell_type": "code",
   "execution_count": 94,
   "metadata": {},
   "outputs": [
    {
     "name": "stdout",
     "output_type": "stream",
     "text": [
      "Received from server: Received\n"
     ]
    }
   ],
   "source": [
    "!python client.py \"Waiter - Audio: AskForFeedback\""
   ]
  },
  {
   "cell_type": "code",
   "execution_count": 107,
   "metadata": {},
   "outputs": [
    {
     "name": "stdout",
     "output_type": "stream",
     "text": [
      "Received from server: Received\n"
     ]
    }
   ],
   "source": [
    "# {R} Robot tries to info the wait time of the other drink\n",
    "!python client.py \"Waiter - Audio: NextDrinkTime\""
   ]
  },
  {
   "cell_type": "code",
   "execution_count": 108,
   "metadata": {},
   "outputs": [
    {
     "name": "stdout",
     "output_type": "stream",
     "text": [
      "Received from server: Received\n"
     ]
    }
   ],
   "source": [
    "!python client.py \"Waiter - Go away\""
   ]
  },
  {
   "cell_type": "code",
   "execution_count": 119,
   "metadata": {},
   "outputs": [
    {
     "name": "stdout",
     "output_type": "stream",
     "text": [
      "Received from server: Received\n"
     ]
    }
   ],
   "source": [
    "!python client.py \"Waiter - Current drink: wrong\" # TO-DO"
   ]
  },
  {
   "cell_type": "code",
   "execution_count": 120,
   "metadata": {},
   "outputs": [
    {
     "name": "stdout",
     "output_type": "stream",
     "text": [
      "Received from server: Received\n"
     ]
    }
   ],
   "source": [
    "!python client.py \"Waiter - Move to the table user1\""
   ]
  },
  {
   "cell_type": "code",
   "execution_count": 121,
   "metadata": {},
   "outputs": [
    {
     "name": "stdout",
     "output_type": "stream",
     "text": [
      "Received from server: Received\n"
     ]
    }
   ],
   "source": [
    "!python client.py \"Waiter - Go away\""
   ]
  },
  {
   "cell_type": "code",
   "execution_count": 122,
   "metadata": {},
   "outputs": [
    {
     "name": "stdout",
     "output_type": "stream",
     "text": [
      "Received from server: Received\n"
     ]
    }
   ],
   "source": [
    "# {R} Robot brings the second cup and in danger of collision with the partner\n",
    "!python client.py \"Waiter - Current drink: user1\"\n",
    "\n",
    "# TO-DO: change to the right drink"
   ]
  },
  {
   "cell_type": "code",
   "execution_count": 123,
   "metadata": {},
   "outputs": [
    {
     "name": "stdout",
     "output_type": "stream",
     "text": [
      "Received from server: Received\n"
     ]
    }
   ],
   "source": [
    "!python client.py \"Waiter - Move to the table user1 dangerous\" \n",
    "# TO-DO: stop near the user1"
   ]
  },
  {
   "cell_type": "code",
   "execution_count": 124,
   "metadata": {},
   "outputs": [
    {
     "name": "stdout",
     "output_type": "stream",
     "text": [
      "Received from server: Received\n"
     ]
    }
   ],
   "source": [
    "!python client.py \"Waiter - Adjust to the table user1 from dangerous\""
   ]
  },
  {
   "cell_type": "code",
   "execution_count": 125,
   "metadata": {},
   "outputs": [
    {
     "name": "stdout",
     "output_type": "stream",
     "text": [
      "Received from server: Received\n"
     ]
    }
   ],
   "source": [
    "!python client.py \"Waiter - Audio: WhereSHouldIPlace\""
   ]
  },
  {
   "cell_type": "code",
   "execution_count": 126,
   "metadata": {},
   "outputs": [
    {
     "name": "stdout",
     "output_type": "stream",
     "text": [
      "Received from server: Received\n"
     ]
    }
   ],
   "source": [
    "# {R} Robot places the drink in a dangerous manner # TODO\n",
    "# !python client.py \"Waiter - Plate out (dangerous)\" \n",
    "!python client.py \"Waiter - Plate out\""
   ]
  },
  {
   "cell_type": "code",
   "execution_count": 127,
   "metadata": {},
   "outputs": [
    {
     "name": "stdout",
     "output_type": "stream",
     "text": [
      "Received from server: Received\n",
      "Received from server: Received\n"
     ]
    }
   ],
   "source": [
    "# user push back the drink TODO: add hand interaction\n",
    "!python client.py \"Waiter - Current drink: detach\" \n",
    "# TO-DO: drink move to the table.\n",
    "!python client.py \"Waiter - Plate back\""
   ]
  },
  {
   "cell_type": "code",
   "execution_count": 128,
   "metadata": {},
   "outputs": [
    {
     "name": "stdout",
     "output_type": "stream",
     "text": [
      "Received from server: Received\n",
      "Received from server: Received\n"
     ]
    }
   ],
   "source": [
    "!python client.py \"Waiter - Audio: AskForFeedback\"\n",
    "!python client.py \"Waiter - Go away\""
   ]
  },
  {
   "cell_type": "code",
   "execution_count": 129,
   "metadata": {},
   "outputs": [
    {
     "name": "stdout",
     "output_type": "stream",
     "text": [
      "Received from server: Received\n"
     ]
    }
   ],
   "source": [
    "!python client.py \"Waiter - Move towards the table (half)\" #// wander around\n",
    "# user signal the robot not to come"
   ]
  },
  {
   "cell_type": "code",
   "execution_count": 130,
   "metadata": {},
   "outputs": [
    {
     "name": "stdout",
     "output_type": "stream",
     "text": [
      "Received from server: Received\n"
     ]
    }
   ],
   "source": [
    "!python client.py \"Waiter - Go away\""
   ]
  },
  {
   "cell_type": "code",
   "execution_count": 131,
   "metadata": {},
   "outputs": [
    {
     "name": "stdout",
     "output_type": "stream",
     "text": [
      "Received from server: Received\n"
     ]
    }
   ],
   "source": [
    "# user attarct the robot's attention\n",
    "!python client.py \"Waiter - Move to the table user1\""
   ]
  },
  {
   "cell_type": "code",
   "execution_count": 132,
   "metadata": {},
   "outputs": [
    {
     "name": "stdout",
     "output_type": "stream",
     "text": [
      "Received from server: Received\n",
      "Received from server: Received\n"
     ]
    },
    {
     "name": "stderr",
     "output_type": "stream",
     "text": [
      "'sleep' �����ڲ����ⲿ���Ҳ���ǿ����еĳ���\n",
      "���������ļ���\n"
     ]
    }
   ],
   "source": [
    "# user2: I have finished my drink\n",
    "!python client.py \"Waiter - Audio: HowMayIHelpYou\"\n",
    "# TODO: To be checked: user1 signal it to collect user2's drink\n",
    "\n",
    "# TODO: user 2's coffee is drunk up\n",
    "!python client.py \"Waiter - Move to the table user2\"\n",
    "!sleep 2"
   ]
  },
  {
   "cell_type": "code",
   "execution_count": 133,
   "metadata": {},
   "outputs": [
    {
     "name": "stdout",
     "output_type": "stream",
     "text": [
      "Received from server: Received\n"
     ]
    },
    {
     "name": "stderr",
     "output_type": "stream",
     "text": [
      "'sleep' �����ڲ����ⲿ���Ҳ���ǿ����еĳ���\n",
      "���������ļ���\n"
     ]
    }
   ],
   "source": [
    "!python client.py \"Waiter - Plate out\"\n",
    "# TODO: drink2 move to the plate\n",
    "!sleep 2"
   ]
  },
  {
   "cell_type": "code",
   "execution_count": 134,
   "metadata": {},
   "outputs": [
    {
     "name": "stdout",
     "output_type": "stream",
     "text": [
      "Received from server: Received\n",
      "Received from server: Received\n",
      "Received from server: Received\n"
     ]
    }
   ],
   "source": [
    "!python client.py \"Waiter - Current drink: user2\"\n",
    "!python client.py \"Waiter - Current drink: attach\"\n",
    "!python client.py \"Waiter - Plate back\""
   ]
  },
  {
   "cell_type": "code",
   "execution_count": 135,
   "metadata": {},
   "outputs": [
    {
     "name": "stdout",
     "output_type": "stream",
     "text": [
      "Received from server: Received\n"
     ]
    },
    {
     "name": "stderr",
     "output_type": "stream",
     "text": [
      "'sleep' �����ڲ����ⲿ���Ҳ���ǿ����еĳ���\n",
      "���������ļ���\n"
     ]
    },
    {
     "name": "stdout",
     "output_type": "stream",
     "text": [
      "Received from server: Received\n"
     ]
    }
   ],
   "source": [
    "!python client.py \"Waiter - Audio: AskForFeedback\"\n",
    "!sleep 2\n",
    "!python client.py \"Waiter - Go away\""
   ]
  },
  {
   "cell_type": "code",
   "execution_count": null,
   "metadata": {},
   "outputs": [],
   "source": []
  },
  {
   "cell_type": "code",
   "execution_count": null,
   "metadata": {},
   "outputs": [],
   "source": []
  },
  {
   "cell_type": "code",
   "execution_count": 34,
   "metadata": {},
   "outputs": [
    {
     "name": "stdout",
     "output_type": "stream",
     "text": [
      "Received from server: Received\n"
     ]
    }
   ],
   "source": [
    "# JUST FOR TEST\n",
    "!python client.py \"Waiter - Plate out\""
   ]
  },
  {
   "cell_type": "code",
   "execution_count": 66,
   "metadata": {},
   "outputs": [
    {
     "name": "stdout",
     "output_type": "stream",
     "text": [
      "Received from server: Received\n"
     ]
    }
   ],
   "source": [
    "!python client.py \"Waiter - Current drink: attach\""
   ]
  },
  {
   "cell_type": "code",
   "execution_count": null,
   "metadata": {},
   "outputs": [],
   "source": []
  }
 ],
 "metadata": {
  "kernelspec": {
   "display_name": "gesturegpt",
   "language": "python",
   "name": "python3"
  },
  "language_info": {
   "codemirror_mode": {
    "name": "ipython",
    "version": 3
   },
   "file_extension": ".py",
   "mimetype": "text/x-python",
   "name": "python",
   "nbconvert_exporter": "python",
   "pygments_lexer": "ipython3",
   "version": "3.8.3"
  }
 },
 "nbformat": 4,
 "nbformat_minor": 2
}
