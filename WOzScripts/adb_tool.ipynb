{
 "cells": [
  {
   "cell_type": "code",
   "execution_count": 6,
   "metadata": {},
   "outputs": [],
   "source": [
    "import os"
   ]
  },
  {
   "cell_type": "code",
   "execution_count": 7,
   "metadata": {},
   "outputs": [],
   "source": [
    "# execute the command \"adb shell\" (then we enter the shell )\n",
    "# and then execute \"ls /storage/emulated/0/Android/data/com.DefaultCompany.QuestProHelloWorld/files/\"\n",
    "# then return the shell output\n",
    "\n",
    "def get_files():\n",
    "    return os.popen('adb shell ls /storage/emulated/0/Android/data/com.DefaultCompany.QuestProHelloWorld/files/').read()\n",
    "\n",
    "def get_devices():\n",
    "    return os.popen('adb devices').read()"
   ]
  },
  {
   "cell_type": "code",
   "execution_count": 8,
   "metadata": {},
   "outputs": [
    {
     "name": "stdout",
     "output_type": "stream",
     "text": [
      "adb pull /storage/emulated/0/Android/data/com.DefaultCompany.QuestProHelloWorld/files/FacialExpression_20240814152505499.csv C:\\Users\\HCI\\Data_NVC_U13\n",
      "adb pull /storage/emulated/0/Android/data/com.DefaultCompany.QuestProHelloWorld/files/FacialExpression_20240814153843650.csv C:\\Users\\HCI\\Data_NVC_U13\n",
      "adb pull /storage/emulated/0/Android/data/com.DefaultCompany.QuestProHelloWorld/files/FacialExpression_20240814153857944.csv C:\\Users\\HCI\\Data_NVC_U13\n",
      "adb pull /storage/emulated/0/Android/data/com.DefaultCompany.QuestProHelloWorld/files/Gaze_20240814152505493.csv C:\\Users\\HCI\\Data_NVC_U13\n",
      "adb pull /storage/emulated/0/Android/data/com.DefaultCompany.QuestProHelloWorld/files/Gaze_20240814153843645.csv C:\\Users\\HCI\\Data_NVC_U13\n",
      "adb pull /storage/emulated/0/Android/data/com.DefaultCompany.QuestProHelloWorld/files/Gaze_20240814153857943.csv C:\\Users\\HCI\\Data_NVC_U13\n",
      "adb pull /storage/emulated/0/Android/data/com.DefaultCompany.QuestProHelloWorld/files/Head_20240814152505492.csv C:\\Users\\HCI\\Data_NVC_U13\n",
      "adb pull /storage/emulated/0/Android/data/com.DefaultCompany.QuestProHelloWorld/files/Head_20240814153843644.csv C:\\Users\\HCI\\Data_NVC_U13\n",
      "adb pull /storage/emulated/0/Android/data/com.DefaultCompany.QuestProHelloWorld/files/Head_20240814153857942.csv C:\\Users\\HCI\\Data_NVC_U13\n",
      "adb pull /storage/emulated/0/Android/data/com.DefaultCompany.QuestProHelloWorld/files/Pose_20240814152505500.csv C:\\Users\\HCI\\Data_NVC_U13\n",
      "adb pull /storage/emulated/0/Android/data/com.DefaultCompany.QuestProHelloWorld/files/Pose_20240814153843652.csv C:\\Users\\HCI\\Data_NVC_U13\n",
      "adb pull /storage/emulated/0/Android/data/com.DefaultCompany.QuestProHelloWorld/files/Pose_20240814153857945.csv C:\\Users\\HCI\\Data_NVC_U13\n",
      "adb pull /storage/emulated/0/Android/data/com.DefaultCompany.QuestProHelloWorld/files/recording_2024_08_14_15_25_41_509_WaiterSession1.mp4 C:\\Users\\HCI\\Data_NVC_U13\n",
      "adb pull /storage/emulated/0/Android/data/com.DefaultCompany.QuestProHelloWorld/files/recording_2024_08_14_15_25_41_562_WaiterSession1.mp4 C:\\Users\\HCI\\Data_NVC_U13\n",
      "adb pull /storage/emulated/0/Android/data/com.DefaultCompany.QuestProHelloWorld/files/recording_2024_08_14_15_25_41_604_WaiterSession1.mp4 C:\\Users\\HCI\\Data_NVC_U13\n",
      "adb pull /storage/emulated/0/Android/data/com.DefaultCompany.QuestProHelloWorld/files/recording_2024_08_14_15_28_47_993_WaiterSession2.mp4 C:\\Users\\HCI\\Data_NVC_U13\n",
      "adb pull /storage/emulated/0/Android/data/com.DefaultCompany.QuestProHelloWorld/files/recording_2024_08_14_15_28_48_038_WaiterSession2.mp4 C:\\Users\\HCI\\Data_NVC_U13\n",
      "adb pull /storage/emulated/0/Android/data/com.DefaultCompany.QuestProHelloWorld/files/recording_2024_08_14_15_28_48_077_WaiterSession2.mp4 C:\\Users\\HCI\\Data_NVC_U13\n",
      "adb pull /storage/emulated/0/Android/data/com.DefaultCompany.QuestProHelloWorld/files/recording_2024_08_14_15_31_45_338_WaiterSession3.mp4 C:\\Users\\HCI\\Data_NVC_U13\n",
      "adb pull /storage/emulated/0/Android/data/com.DefaultCompany.QuestProHelloWorld/files/recording_2024_08_14_15_31_45_380_WaiterSession3.mp4 C:\\Users\\HCI\\Data_NVC_U13\n",
      "adb pull /storage/emulated/0/Android/data/com.DefaultCompany.QuestProHelloWorld/files/recording_2024_08_14_15_31_45_422_WaiterSession3.mp4 C:\\Users\\HCI\\Data_NVC_U13\n",
      "adb pull /storage/emulated/0/Android/data/com.DefaultCompany.QuestProHelloWorld/files/recording_2024_08_14_15_39_17_201_DroneSession1.mp4 C:\\Users\\HCI\\Data_NVC_U13\n",
      "adb pull /storage/emulated/0/Android/data/com.DefaultCompany.QuestProHelloWorld/files/recording_2024_08_14_15_39_17_244_DroneSession1.mp4 C:\\Users\\HCI\\Data_NVC_U13\n",
      "adb pull /storage/emulated/0/Android/data/com.DefaultCompany.QuestProHelloWorld/files/recording_2024_08_14_15_39_17_276_DroneSession1.mp4 C:\\Users\\HCI\\Data_NVC_U13\n",
      "adb pull /storage/emulated/0/Android/data/com.DefaultCompany.QuestProHelloWorld/files/recording_2024_08_14_15_41_31_101_DroneSession2.mp4 C:\\Users\\HCI\\Data_NVC_U13\n",
      "adb pull /storage/emulated/0/Android/data/com.DefaultCompany.QuestProHelloWorld/files/recording_2024_08_14_15_41_31_144_DroneSession2.mp4 C:\\Users\\HCI\\Data_NVC_U13\n",
      "adb pull /storage/emulated/0/Android/data/com.DefaultCompany.QuestProHelloWorld/files/recording_2024_08_14_15_41_31_182_DroneSession2.mp4 C:\\Users\\HCI\\Data_NVC_U13\n",
      "adb pull /storage/emulated/0/Android/data/com.DefaultCompany.QuestProHelloWorld/files/recording_2024_08_14_15_43_46_036_DroneSession3.mp4 C:\\Users\\HCI\\Data_NVC_U13\n",
      "adb pull /storage/emulated/0/Android/data/com.DefaultCompany.QuestProHelloWorld/files/recording_2024_08_14_15_43_46_080_DroneSession3.mp4 C:\\Users\\HCI\\Data_NVC_U13\n",
      "adb pull /storage/emulated/0/Android/data/com.DefaultCompany.QuestProHelloWorld/files/recording_2024_08_14_15_43_46_115_DroneSession3.mp4 C:\\Users\\HCI\\Data_NVC_U13\n"
     ]
    }
   ],
   "source": [
    "file_ls = get_files()\n",
    "for file in file_ls.split('\\n'):\n",
    "    if '.' in file:\n",
    "        print(r\"adb pull /storage/emulated/0/Android/data/com.DefaultCompany.QuestProHelloWorld/files/\" + file + r\" C:\\Users\\HCI\\Data_NVC_U13\")\n",
    "        # execute the same command in the terminal\n",
    "        os.system(r\"adb pull /storage/emulated/0/Android/data/com.DefaultCompany.QuestProHelloWorld/files/\" + file + r\" C:\\Users\\HCI\\Data_NVC_U13\")"
   ]
  },
  {
   "cell_type": "code",
   "execution_count": null,
   "metadata": {},
   "outputs": [],
   "source": [
    "脚本执行能自动timing就不要自己控制；return value\n",
    "\n",
    "怎么快速找recording"
   ]
  }
 ],
 "metadata": {
  "kernelspec": {
   "display_name": "base",
   "language": "python",
   "name": "python3"
  },
  "language_info": {
   "codemirror_mode": {
    "name": "ipython",
    "version": 3
   },
   "file_extension": ".py",
   "mimetype": "text/x-python",
   "name": "python",
   "nbconvert_exporter": "python",
   "pygments_lexer": "ipython3",
   "version": "3.8.3"
  }
 },
 "nbformat": 4,
 "nbformat_minor": 2
}
