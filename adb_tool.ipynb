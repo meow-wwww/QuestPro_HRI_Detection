{
 "cells": [
  {
   "cell_type": "code",
   "execution_count": 1,
   "metadata": {},
   "outputs": [],
   "source": [
    "import os"
   ]
  },
  {
   "cell_type": "code",
   "execution_count": 2,
   "metadata": {},
   "outputs": [],
   "source": [
    "# execute the command \"adb shell\" (then we enter the shell )\n",
    "# and then execute \"ls /storage/emulated/0/Android/data/com.DefaultCompany.QuestProHelloWorld/files/\"\n",
    "# then return the shell output\n",
    "\n",
    "def get_files():\n",
    "    return os.popen('adb shell ls /storage/emulated/0/Android/data/com.DefaultCompany.QuestProHelloWorld/files/').read()\n",
    "\n",
    "def get_devices():\n",
    "    return os.popen('adb devices').read()"
   ]
  },
  {
   "cell_type": "code",
   "execution_count": 4,
   "metadata": {},
   "outputs": [
    {
     "name": "stdout",
     "output_type": "stream",
     "text": [
      "adb pull /storage/emulated/0/Android/data/com.DefaultCompany.QuestProHelloWorld/files/FacialExpression_20240725161611597.csv C:\\Users\\HCI\\Data_NVC_2\n",
      "adb pull /storage/emulated/0/Android/data/com.DefaultCompany.QuestProHelloWorld/files/FacialExpression_20240725162735227.csv C:\\Users\\HCI\\Data_NVC_2\n",
      "adb pull /storage/emulated/0/Android/data/com.DefaultCompany.QuestProHelloWorld/files/FacialExpression_20240725162747241.csv C:\\Users\\HCI\\Data_NVC_2\n",
      "adb pull /storage/emulated/0/Android/data/com.DefaultCompany.QuestProHelloWorld/files/FacialExpression_20240725162805366.csv C:\\Users\\HCI\\Data_NVC_2\n",
      "adb pull /storage/emulated/0/Android/data/com.DefaultCompany.QuestProHelloWorld/files/FacialExpression_20240725163211236.csv C:\\Users\\HCI\\Data_NVC_2\n",
      "adb pull /storage/emulated/0/Android/data/com.DefaultCompany.QuestProHelloWorld/files/FacialExpression_20240725163318933.csv C:\\Users\\HCI\\Data_NVC_2\n",
      "adb pull /storage/emulated/0/Android/data/com.DefaultCompany.QuestProHelloWorld/files/FacialExpression_20240725170026817.csv C:\\Users\\HCI\\Data_NVC_2\n",
      "adb pull /storage/emulated/0/Android/data/com.DefaultCompany.QuestProHelloWorld/files/FacialExpression_20240725170406561.csv C:\\Users\\HCI\\Data_NVC_2\n",
      "adb pull /storage/emulated/0/Android/data/com.DefaultCompany.QuestProHelloWorld/files/Gaze_20240725161611590.csv C:\\Users\\HCI\\Data_NVC_2\n",
      "adb pull /storage/emulated/0/Android/data/com.DefaultCompany.QuestProHelloWorld/files/Gaze_20240725162735224.csv C:\\Users\\HCI\\Data_NVC_2\n",
      "adb pull /storage/emulated/0/Android/data/com.DefaultCompany.QuestProHelloWorld/files/Gaze_20240725162747237.csv C:\\Users\\HCI\\Data_NVC_2\n",
      "adb pull /storage/emulated/0/Android/data/com.DefaultCompany.QuestProHelloWorld/files/Gaze_20240725162805363.csv C:\\Users\\HCI\\Data_NVC_2\n",
      "adb pull /storage/emulated/0/Android/data/com.DefaultCompany.QuestProHelloWorld/files/Gaze_20240725163211233.csv C:\\Users\\HCI\\Data_NVC_2\n",
      "adb pull /storage/emulated/0/Android/data/com.DefaultCompany.QuestProHelloWorld/files/Gaze_20240725163318930.csv C:\\Users\\HCI\\Data_NVC_2\n",
      "adb pull /storage/emulated/0/Android/data/com.DefaultCompany.QuestProHelloWorld/files/Gaze_20240725170026816.csv C:\\Users\\HCI\\Data_NVC_2\n",
      "adb pull /storage/emulated/0/Android/data/com.DefaultCompany.QuestProHelloWorld/files/Gaze_20240725170406556.csv C:\\Users\\HCI\\Data_NVC_2\n",
      "adb pull /storage/emulated/0/Android/data/com.DefaultCompany.QuestProHelloWorld/files/Head_20240725161611589.csv C:\\Users\\HCI\\Data_NVC_2\n",
      "adb pull /storage/emulated/0/Android/data/com.DefaultCompany.QuestProHelloWorld/files/Head_20240725162735223.csv C:\\Users\\HCI\\Data_NVC_2\n",
      "adb pull /storage/emulated/0/Android/data/com.DefaultCompany.QuestProHelloWorld/files/Head_20240725162747235.csv C:\\Users\\HCI\\Data_NVC_2\n",
      "adb pull /storage/emulated/0/Android/data/com.DefaultCompany.QuestProHelloWorld/files/Head_20240725162805362.csv C:\\Users\\HCI\\Data_NVC_2\n",
      "adb pull /storage/emulated/0/Android/data/com.DefaultCompany.QuestProHelloWorld/files/Head_20240725163211232.csv C:\\Users\\HCI\\Data_NVC_2\n",
      "adb pull /storage/emulated/0/Android/data/com.DefaultCompany.QuestProHelloWorld/files/Head_20240725163318929.csv C:\\Users\\HCI\\Data_NVC_2\n",
      "adb pull /storage/emulated/0/Android/data/com.DefaultCompany.QuestProHelloWorld/files/Head_20240725170026815.csv C:\\Users\\HCI\\Data_NVC_2\n",
      "adb pull /storage/emulated/0/Android/data/com.DefaultCompany.QuestProHelloWorld/files/Head_20240725170406555.csv C:\\Users\\HCI\\Data_NVC_2\n",
      "adb pull /storage/emulated/0/Android/data/com.DefaultCompany.QuestProHelloWorld/files/Pose_20240725161611599.csv C:\\Users\\HCI\\Data_NVC_2\n",
      "adb pull /storage/emulated/0/Android/data/com.DefaultCompany.QuestProHelloWorld/files/Pose_20240725162735228.csv C:\\Users\\HCI\\Data_NVC_2\n",
      "adb pull /storage/emulated/0/Android/data/com.DefaultCompany.QuestProHelloWorld/files/Pose_20240725162747243.csv C:\\Users\\HCI\\Data_NVC_2\n",
      "adb pull /storage/emulated/0/Android/data/com.DefaultCompany.QuestProHelloWorld/files/Pose_20240725162805367.csv C:\\Users\\HCI\\Data_NVC_2\n",
      "adb pull /storage/emulated/0/Android/data/com.DefaultCompany.QuestProHelloWorld/files/Pose_20240725163211238.csv C:\\Users\\HCI\\Data_NVC_2\n",
      "adb pull /storage/emulated/0/Android/data/com.DefaultCompany.QuestProHelloWorld/files/Pose_20240725163318934.csv C:\\Users\\HCI\\Data_NVC_2\n",
      "adb pull /storage/emulated/0/Android/data/com.DefaultCompany.QuestProHelloWorld/files/Pose_20240725170026818.csv C:\\Users\\HCI\\Data_NVC_2\n",
      "adb pull /storage/emulated/0/Android/data/com.DefaultCompany.QuestProHelloWorld/files/Pose_20240725170406562.csv C:\\Users\\HCI\\Data_NVC_2\n",
      "adb pull /storage/emulated/0/Android/data/com.DefaultCompany.QuestProHelloWorld/files/recording_2024_07_25_16_16_49_231.mp4 C:\\Users\\HCI\\Data_NVC_2\n",
      "adb pull /storage/emulated/0/Android/data/com.DefaultCompany.QuestProHelloWorld/files/recording_2024_07_25_16_16_49_287.mp4 C:\\Users\\HCI\\Data_NVC_2\n",
      "adb pull /storage/emulated/0/Android/data/com.DefaultCompany.QuestProHelloWorld/files/recording_2024_07_25_16_16_49_316.mp4 C:\\Users\\HCI\\Data_NVC_2\n",
      "adb pull /storage/emulated/0/Android/data/com.DefaultCompany.QuestProHelloWorld/files/recording_2024_07_25_16_28_22_494.mp4 C:\\Users\\HCI\\Data_NVC_2\n",
      "adb pull /storage/emulated/0/Android/data/com.DefaultCompany.QuestProHelloWorld/files/recording_2024_07_25_16_28_22_533.mp4 C:\\Users\\HCI\\Data_NVC_2\n",
      "adb pull /storage/emulated/0/Android/data/com.DefaultCompany.QuestProHelloWorld/files/recording_2024_07_25_16_28_22_574.mp4 C:\\Users\\HCI\\Data_NVC_2\n",
      "adb pull /storage/emulated/0/Android/data/com.DefaultCompany.QuestProHelloWorld/files/recording_2024_07_25_16_32_41_356.mp4 C:\\Users\\HCI\\Data_NVC_2\n",
      "adb pull /storage/emulated/0/Android/data/com.DefaultCompany.QuestProHelloWorld/files/recording_2024_07_25_16_32_41_394.mp4 C:\\Users\\HCI\\Data_NVC_2\n",
      "adb pull /storage/emulated/0/Android/data/com.DefaultCompany.QuestProHelloWorld/files/recording_2024_07_25_16_32_41_432.mp4 C:\\Users\\HCI\\Data_NVC_2\n",
      "adb pull /storage/emulated/0/Android/data/com.DefaultCompany.QuestProHelloWorld/files/recording_2024_07_25_16_33_49_667.mp4 C:\\Users\\HCI\\Data_NVC_2\n",
      "adb pull /storage/emulated/0/Android/data/com.DefaultCompany.QuestProHelloWorld/files/recording_2024_07_25_16_33_49_714.mp4 C:\\Users\\HCI\\Data_NVC_2\n",
      "adb pull /storage/emulated/0/Android/data/com.DefaultCompany.QuestProHelloWorld/files/recording_2024_07_25_16_33_49_748.mp4 C:\\Users\\HCI\\Data_NVC_2\n",
      "adb pull /storage/emulated/0/Android/data/com.DefaultCompany.QuestProHelloWorld/files/recording_2024_07_25_17_05_23_600.mp4 C:\\Users\\HCI\\Data_NVC_2\n",
      "adb pull /storage/emulated/0/Android/data/com.DefaultCompany.QuestProHelloWorld/files/recording_2024_07_25_17_05_23_640.mp4 C:\\Users\\HCI\\Data_NVC_2\n",
      "adb pull /storage/emulated/0/Android/data/com.DefaultCompany.QuestProHelloWorld/files/recording_2024_07_25_17_05_23_675.mp4 C:\\Users\\HCI\\Data_NVC_2\n",
      "adb pull /storage/emulated/0/Android/data/com.DefaultCompany.QuestProHelloWorld/files/recording_2024_07_25_17_08_27_616.mp4 C:\\Users\\HCI\\Data_NVC_2\n",
      "adb pull /storage/emulated/0/Android/data/com.DefaultCompany.QuestProHelloWorld/files/recording_2024_07_25_17_08_27_659.mp4 C:\\Users\\HCI\\Data_NVC_2\n",
      "adb pull /storage/emulated/0/Android/data/com.DefaultCompany.QuestProHelloWorld/files/recording_2024_07_25_17_08_27_692.mp4 C:\\Users\\HCI\\Data_NVC_2\n",
      "adb pull /storage/emulated/0/Android/data/com.DefaultCompany.QuestProHelloWorld/files/recording_2024_07_25_17_10_04_425.mp4 C:\\Users\\HCI\\Data_NVC_2\n",
      "adb pull /storage/emulated/0/Android/data/com.DefaultCompany.QuestProHelloWorld/files/recording_2024_07_25_17_10_04_474.mp4 C:\\Users\\HCI\\Data_NVC_2\n",
      "adb pull /storage/emulated/0/Android/data/com.DefaultCompany.QuestProHelloWorld/files/recording_2024_07_25_17_10_04_507.mp4 C:\\Users\\HCI\\Data_NVC_2\n",
      "adb pull /storage/emulated/0/Android/data/com.DefaultCompany.QuestProHelloWorld/files/recording_2024_07_25_17_15_32_576.mp4 C:\\Users\\HCI\\Data_NVC_2\n",
      "adb pull /storage/emulated/0/Android/data/com.DefaultCompany.QuestProHelloWorld/files/recording_2024_07_25_17_15_32_621.mp4 C:\\Users\\HCI\\Data_NVC_2\n",
      "adb pull /storage/emulated/0/Android/data/com.DefaultCompany.QuestProHelloWorld/files/recording_2024_07_25_17_15_32_665.mp4 C:\\Users\\HCI\\Data_NVC_2\n"
     ]
    }
   ],
   "source": [
    "file_ls = get_files()\n",
    "for file in file_ls.split('\\n'):\n",
    "    if '.' in file:\n",
    "        print(r\"adb pull /storage/emulated/0/Android/data/com.DefaultCompany.QuestProHelloWorld/files/\" + file + r\" C:\\Users\\HCI\\Data_NVC_2\")\n",
    "        # execute the same command in the terminal\n",
    "        os.system(r\"adb pull /storage/emulated/0/Android/data/com.DefaultCompany.QuestProHelloWorld/files/\" + file + r\" C:\\Users\\HCI\\Data_NVC_2\")"
   ]
  },
  {
   "cell_type": "code",
   "execution_count": null,
   "metadata": {},
   "outputs": [],
   "source": [
    "脚本执行能自动timing就不要自己控制；return value\n",
    "\n",
    "怎么快速找recording"
   ]
  }
 ],
 "metadata": {
  "kernelspec": {
   "display_name": "base",
   "language": "python",
   "name": "python3"
  },
  "language_info": {
   "codemirror_mode": {
    "name": "ipython",
    "version": 3
   },
   "file_extension": ".py",
   "mimetype": "text/x-python",
   "name": "python",
   "nbconvert_exporter": "python",
   "pygments_lexer": "ipython3",
   "version": "3.8.3"
  }
 },
 "nbformat": 4,
 "nbformat_minor": 2
}
