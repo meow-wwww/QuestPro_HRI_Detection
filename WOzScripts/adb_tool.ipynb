{
 "cells": [
  {
   "cell_type": "code",
   "execution_count": 1,
   "metadata": {},
   "outputs": [],
   "source": [
    "import os"
   ]
  },
  {
   "cell_type": "code",
   "execution_count": 2,
   "metadata": {},
   "outputs": [],
   "source": [
    "# execute the command \"adb shell\" (then we enter the shell )\n",
    "# and then execute \"ls /storage/emulated/0/Android/data/com.DefaultCompany.QuestProHelloWorld/files/\"\n",
    "# then return the shell output\n",
    "\n",
    "def get_files():\n",
    "    return os.popen('adb shell ls /storage/emulated/0/Android/data/com.DefaultCompany.QuestProHelloWorld/files/').read()\n",
    "\n",
    "def get_devices():\n",
    "    return os.popen('adb devices').read()"
   ]
  },
  {
   "cell_type": "code",
   "execution_count": null,
   "metadata": {},
   "outputs": [],
   "source": [
    "file_ls = get_files()\n",
    "for file in file_ls.split('\\n'):\n",
    "    if '.' in file:\n",
    "        print(r\"adb pull /storage/emulated/0/Android/data/com.DefaultCompany.QuestProHelloWorld/files/\" + file + r\" C:\\Users\\HCI\\Data_NVC_P03\")\n",
    "        # execute the same command in the terminal\n",
    "        os.system(r\"adb pull /storage/emulated/0/Android/data/com.DefaultCompany.QuestProHelloWorld/files/\" + file + r\" C:\\Users\\HCI\\Data_NVC_P03\")"
   ]
  },
  {
   "cell_type": "code",
   "execution_count": null,
   "metadata": {},
   "outputs": [],
   "source": [
    "脚本执行能自动timing就不要自己控制；return value\n",
    "\n",
    "怎么快速找recording"
   ]
  }
 ],
 "metadata": {
  "kernelspec": {
   "display_name": "base",
   "language": "python",
   "name": "python3"
  },
  "language_info": {
   "codemirror_mode": {
    "name": "ipython",
    "version": 3
   },
   "file_extension": ".py",
   "mimetype": "text/x-python",
   "name": "python",
   "nbconvert_exporter": "python",
   "pygments_lexer": "ipython3",
   "version": "3.8.3"
  }
 },
 "nbformat": 4,
 "nbformat_minor": 2
}
