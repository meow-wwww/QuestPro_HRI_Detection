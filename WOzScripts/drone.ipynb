{
 "cells": [
  {
   "cell_type": "code",
   "execution_count": null,
   "metadata": {},
   "outputs": [],
   "source": [
    "import time"
   ]
  },
  {
   "cell_type": "markdown",
   "metadata": {},
   "source": [
    "# Session 1"
   ]
  },
  {
   "cell_type": "markdown",
   "metadata": {},
   "source": [
    "    [You and your conversational partner ordered the same type of drink]"
   ]
  },
  {
   "cell_type": "code",
   "execution_count": null,
   "metadata": {},
   "outputs": [],
   "source": [
    "!python client.py \"Start recording\""
   ]
  },
  {
   "cell_type": "code",
   "execution_count": null,
   "metadata": {},
   "outputs": [],
   "source": [
    "!python client.py \"Save context - 0\"\n",
    "# !python client.py \"Instruction - When the robot is moving towards you, signal awareness of the robot approaching\"\n",
    "# !sleep 8"
   ]
  },
  {
   "cell_type": "code",
   "execution_count": null,
   "metadata": {},
   "outputs": [],
   "source": [
    "# {R} Robot approaches to deliver a cup of drink\n",
    "!python client.py \"Drone - Current drink: user2\"\n",
    "!python client.py \"Drone - Move towards the table (half)\"\n",
    "# time.sleep(6)"
   ]
  },
  {
   "cell_type": "markdown",
   "metadata": {},
   "source": [
    "    {H} [2a] Signal awareness of the robot approaching"
   ]
  },
  {
   "cell_type": "code",
   "execution_count": null,
   "metadata": {},
   "outputs": [],
   "source": [
    "# !python client.py \"Reset context - 0\""
   ]
  },
  {
   "cell_type": "markdown",
   "metadata": {},
   "source": [
    "---"
   ]
  },
  {
   "cell_type": "code",
   "execution_count": null,
   "metadata": {},
   "outputs": [],
   "source": [
    "!python client.py \"Save context - 1\"\n",
    "# !python client.py \"Instruction - After the robot stops, signal the robot to give the drink to your partner first\"\n",
    "# !sleep 8"
   ]
  },
  {
   "cell_type": "code",
   "execution_count": null,
   "metadata": {},
   "outputs": [],
   "source": [
    "# {R} Robot tries to serve the cup of drink to you\n",
    "!python client.py \"Drone - Move to the table user1#Tell it: Give the drink to your partner\"\n",
    "# !sleep 6"
   ]
  },
  {
   "cell_type": "markdown",
   "metadata": {},
   "source": [
    "    {H} [2bii] Signal the robot to give it to the partner first"
   ]
  },
  {
   "cell_type": "code",
   "execution_count": null,
   "metadata": {},
   "outputs": [],
   "source": [
    "!python client.py \"Drone - Move to the table user2\"\n",
    "# !sleep 6\n",
    "time.sleep(6)"
   ]
  },
  {
   "cell_type": "code",
   "execution_count": null,
   "metadata": {},
   "outputs": [],
   "source": [
    "# !python client.py \"Reset context - 1\""
   ]
  },
  {
   "cell_type": "markdown",
   "metadata": {},
   "source": [
    "---"
   ]
  },
  {
   "cell_type": "code",
   "execution_count": null,
   "metadata": {},
   "outputs": [],
   "source": [
    "!python client.py \"Save context - 2\"\n",
    "# !python client.py \"Instruction - When the robot is asking for your feedback, please signal: I do not want to provide feedback now.\"\n",
    "# !sleep 5"
   ]
  },
  {
   "cell_type": "code",
   "execution_count": null,
   "metadata": {},
   "outputs": [],
   "source": [
    "!python client.py \"Drone - Send out drink\"\n",
    "time.sleep(8)\n",
    "!python client.py \"Drone - Audio: AskForFeedback#Do not want to rate\""
   ]
  },
  {
   "cell_type": "markdown",
   "metadata": {},
   "source": [
    "> {H} [1b] Provide the feedback: do not want to provide feedback"
   ]
  },
  {
   "cell_type": "code",
   "execution_count": null,
   "metadata": {},
   "outputs": [],
   "source": [
    "# !python client.py \"Reset context - 2\""
   ]
  },
  {
   "cell_type": "markdown",
   "metadata": {},
   "source": [
    "---"
   ]
  },
  {
   "cell_type": "code",
   "execution_count": null,
   "metadata": {},
   "outputs": [],
   "source": [
    "!python client.py \"Save context - 3\"\n",
    "# !python client.py \"Instruction - When the robot is trying to info the wait time for the next drink, signal: Interrupt it to be quiet\"\n",
    "# !sleep 8"
   ]
  },
  {
   "cell_type": "code",
   "execution_count": null,
   "metadata": {},
   "outputs": [],
   "source": [
    "# {R} Robot tries to info the wait time of the other drink\n",
    "!python client.py \"Drone - Audio: NextDrinkTime\"\n",
    "time.sleep(1)\n",
    "!python client.py \"Instruction - Interrupt it\""
   ]
  },
  {
   "cell_type": "markdown",
   "metadata": {},
   "source": [
    "    {H} [2bii] Instruct the robot to be quiet"
   ]
  },
  {
   "cell_type": "code",
   "execution_count": null,
   "metadata": {},
   "outputs": [],
   "source": [
    "!python client.py \"Drone - Audio info stop\"\n",
    "time.sleep(1)\n",
    "!python client.py \"Drone - Move away\"\n",
    "time.sleep(8)"
   ]
  },
  {
   "cell_type": "code",
   "execution_count": null,
   "metadata": {},
   "outputs": [],
   "source": [
    "# !python client.py \"Reset context - 3\""
   ]
  },
  {
   "cell_type": "code",
   "execution_count": null,
   "metadata": {},
   "outputs": [],
   "source": [
    "!python client.py \"Stop recording - DroneSession1\""
   ]
  },
  {
   "cell_type": "markdown",
   "metadata": {},
   "source": [
    "----\n",
    "\n",
    "----"
   ]
  },
  {
   "cell_type": "markdown",
   "metadata": {},
   "source": [
    "# Session 2"
   ]
  },
  {
   "cell_type": "code",
   "execution_count": null,
   "metadata": {},
   "outputs": [],
   "source": [
    "!python client.py \"Start recording\""
   ]
  },
  {
   "cell_type": "code",
   "execution_count": null,
   "metadata": {},
   "outputs": [],
   "source": [
    "# {R} Robot brings the second cup, but wrong drink\n",
    "!python client.py \"Save context - 4\"\n",
    "# !python client.py \"Instruction - The robot is delivering a wrong drink. When it stops beside you, correct it.\"\n",
    "# !sleep 8"
   ]
  },
  {
   "cell_type": "code",
   "execution_count": null,
   "metadata": {},
   "outputs": [],
   "source": [
    "!python client.py \"Drone - Current drink: wrong\"\n",
    "!python client.py \"Drone - Move to the table user1 above#Wrong drink. Correct the robot\""
   ]
  },
  {
   "cell_type": "markdown",
   "metadata": {},
   "source": [
    "    {H} [2bi] Correct the robot"
   ]
  },
  {
   "cell_type": "code",
   "execution_count": null,
   "metadata": {},
   "outputs": [],
   "source": [
    "!python client.py \"Drone - Move away\"\n",
    "time.sleep(8)"
   ]
  },
  {
   "cell_type": "code",
   "execution_count": null,
   "metadata": {},
   "outputs": [],
   "source": [
    "# !python client.py \"Reset context - 4\""
   ]
  },
  {
   "cell_type": "markdown",
   "metadata": {},
   "source": [
    "---"
   ]
  },
  {
   "cell_type": "code",
   "execution_count": null,
   "metadata": {},
   "outputs": [],
   "source": [
    "!python client.py \"Save context - 5\"\n",
    "# !python client.py \"Instruction - The robot will be moving towards you in danger of collision. When it is approaching, signal an emergency stop.\"\n",
    "# !sleep 8"
   ]
  },
  {
   "cell_type": "code",
   "execution_count": null,
   "metadata": {},
   "outputs": [],
   "source": [
    "!python client.py \"Drone - Current drink: user1\"\n",
    "!python client.py \"Drone - Move to the table user1 collision\"\n",
    "time.sleep(2)\n",
    "!python client.py \"Instruction - Emergency! Stop it!\"\n",
    "time.sleep(7)"
   ]
  },
  {
   "cell_type": "markdown",
   "metadata": {},
   "source": [
    "    {H} [2bi] Signal an emergency stop"
   ]
  },
  {
   "cell_type": "code",
   "execution_count": null,
   "metadata": {},
   "outputs": [],
   "source": [
    "# !python client.py \"Reset context - 5\""
   ]
  },
  {
   "cell_type": "markdown",
   "metadata": {},
   "source": [
    "---"
   ]
  },
  {
   "cell_type": "code",
   "execution_count": null,
   "metadata": {},
   "outputs": [],
   "source": [
    "!python client.py \"Save context - 6\"\n",
    "# !python client.py \"Instruction - When the robot is asking where to place the drink, signal: Place it onto the indicator on the table\"\n",
    "# !sleep 8"
   ]
  },
  {
   "cell_type": "code",
   "execution_count": null,
   "metadata": {},
   "outputs": [],
   "source": [
    "# {R} Robot re-adjusts the route and ask where to place the drink\n",
    "!python client.py \"Drone - Move to the table user1 above#\"\n",
    "time.sleep(4)\n",
    "!python client.py \"Drone - Audio: WhereShouldIPlace#Indicate the place\""
   ]
  },
  {
   "cell_type": "markdown",
   "metadata": {},
   "source": [
    "    {H} [1a] Instruct the robot where to place / hand-over the drink"
   ]
  },
  {
   "cell_type": "code",
   "execution_count": null,
   "metadata": {},
   "outputs": [],
   "source": [
    "# !python client.py \"Reset context - 6\""
   ]
  },
  {
   "cell_type": "markdown",
   "metadata": {},
   "source": [
    "---"
   ]
  },
  {
   "cell_type": "code",
   "execution_count": null,
   "metadata": {},
   "outputs": [],
   "source": [
    "!python client.py \"Save context - 7\"\n",
    "# !python client.py \"Instruction - When the robot is placing the drink in a dangerous manner, try to correct the drink's position by grabbing and moving the drink).\"\n",
    "# !sleep 8"
   ]
  },
  {
   "cell_type": "code",
   "execution_count": null,
   "metadata": {},
   "outputs": [],
   "source": [
    "# {R} Robot places the drink in a dangerous manner\n",
    "!python client.py \"Drone - Send out drink dangerous\""
   ]
  },
  {
   "cell_type": "markdown",
   "metadata": {},
   "source": [
    "    {H} [2bi] Correct the robot"
   ]
  },
  {
   "cell_type": "code",
   "execution_count": null,
   "metadata": {},
   "outputs": [],
   "source": [
    "# !python client.py \"Reset context - 7\""
   ]
  },
  {
   "cell_type": "markdown",
   "metadata": {},
   "source": [
    "---"
   ]
  },
  {
   "cell_type": "code",
   "execution_count": null,
   "metadata": {},
   "outputs": [],
   "source": [
    "!python client.py \"Save context - 8\"\n",
    "# !python client.py \"Instruction - When the robot is asking for your feedback, please signal: bad.\"\n",
    "# !sleep 8"
   ]
  },
  {
   "cell_type": "code",
   "execution_count": null,
   "metadata": {},
   "outputs": [],
   "source": [
    "# !python client.py \"Drone - Close cup catchers\"\n",
    "!python client.py \"Drone - Audio: AskForFeedback#Rate: bad\""
   ]
  },
  {
   "cell_type": "markdown",
   "metadata": {},
   "source": [
    "    {H} [1b] Provide the feedback: bad"
   ]
  },
  {
   "cell_type": "code",
   "execution_count": null,
   "metadata": {},
   "outputs": [],
   "source": [
    "# !python client.py \"Reset context - 7\""
   ]
  },
  {
   "cell_type": "code",
   "execution_count": null,
   "metadata": {},
   "outputs": [],
   "source": [
    "!python client.py \"Stop recording - DroneSession2\""
   ]
  },
  {
   "cell_type": "markdown",
   "metadata": {},
   "source": [
    "---\n",
    "\n",
    "---"
   ]
  },
  {
   "cell_type": "markdown",
   "metadata": {},
   "source": [
    "# Session 3"
   ]
  },
  {
   "cell_type": "code",
   "execution_count": null,
   "metadata": {},
   "outputs": [],
   "source": [
    "!python client.py \"Start recording\""
   ]
  },
  {
   "cell_type": "code",
   "execution_count": null,
   "metadata": {},
   "outputs": [],
   "source": [
    "!python client.py \"Save context - 9\"\n",
    "# !python client.py \"Instruction - When the robot is wandering around, signal: Move away from us.\"\n",
    "# !sleep 8"
   ]
  },
  {
   "cell_type": "code",
   "execution_count": null,
   "metadata": {},
   "outputs": [],
   "source": [
    "!python client.py \"Drone - Move around\"\n",
    "time.sleep(12)\n",
    "!python client.py \"Instruction - Signal it to move away\""
   ]
  },
  {
   "cell_type": "markdown",
   "metadata": {},
   "source": [
    "    {H} [2bii] Signal the robot not to approach"
   ]
  },
  {
   "cell_type": "code",
   "execution_count": null,
   "metadata": {},
   "outputs": [],
   "source": [
    "!python client.py \"Coffee - User2 drink up\"\n",
    "!python client.py \"Drone - Stop wandering\"\n",
    "time.sleep(1)\n",
    "!python client.py \"Drone - Move away\"\n",
    "time.sleep(8)"
   ]
  },
  {
   "cell_type": "code",
   "execution_count": null,
   "metadata": {},
   "outputs": [],
   "source": [
    "# !python client.py \"Reset context - 9\""
   ]
  },
  {
   "cell_type": "markdown",
   "metadata": {},
   "source": [
    "---"
   ]
  },
  {
   "cell_type": "code",
   "execution_count": null,
   "metadata": {},
   "outputs": [],
   "source": [
    "!python client.py \"Save context - 10\"\n",
    "# !python client.py \"Instruction - When your partner's drink is finished, signal the robot to come over.\"\n",
    "# !sleep 8\n",
    "!python client.py \"Instruction - Signal the robot to come over.\""
   ]
  },
  {
   "cell_type": "markdown",
   "metadata": {},
   "source": [
    "    user2 says: I have finished my drink\n",
    "    {H} [2a] Attract the robot's attention"
   ]
  },
  {
   "cell_type": "code",
   "execution_count": null,
   "metadata": {},
   "outputs": [],
   "source": [
    "!python client.py \"Drone - Move to the table user1 above#\"\n",
    "time.sleep(8)"
   ]
  },
  {
   "cell_type": "code",
   "execution_count": null,
   "metadata": {},
   "outputs": [],
   "source": [
    "# !python client.py \"Reset context - 10\""
   ]
  },
  {
   "cell_type": "markdown",
   "metadata": {},
   "source": [
    "---"
   ]
  },
  {
   "cell_type": "code",
   "execution_count": null,
   "metadata": {},
   "outputs": [],
   "source": [
    "!python client.py \"Save context - 11\"\n",
    "# !python client.py \"Instruction - After the robot asks what to do, signal: Collect your partner's cup.\"\n",
    "# !sleep 8"
   ]
  },
  {
   "cell_type": "code",
   "execution_count": null,
   "metadata": {},
   "outputs": [],
   "source": [
    "# {R} Robot comes over and ask “How may I help you?”\n",
    "!python client.py \"Drone - Audio: HowMayIHelpYou#Tell it to collect your partner's cup\""
   ]
  },
  {
   "cell_type": "markdown",
   "metadata": {},
   "source": [
    "    {H} [1a] Signal the robot where to park (and what to collect)"
   ]
  },
  {
   "cell_type": "code",
   "execution_count": null,
   "metadata": {},
   "outputs": [],
   "source": [
    "# {R} Robot finishes the job and asks for feedback rating\n",
    "!python client.py \"Drone - Open cup catchers\"\n",
    "!python client.py \"Drone - Move to the table user2\"\n",
    "time.sleep(8)\n",
    "!python client.py \"Drone - Collect drink\"\n",
    "time.sleep(1)"
   ]
  },
  {
   "cell_type": "code",
   "execution_count": null,
   "metadata": {},
   "outputs": [],
   "source": [
    "# !python client.py \"Reset context - 11\""
   ]
  },
  {
   "cell_type": "markdown",
   "metadata": {},
   "source": [
    "---"
   ]
  },
  {
   "cell_type": "code",
   "execution_count": null,
   "metadata": {},
   "outputs": [],
   "source": [
    "!python client.py \"Save context - 12\"\n",
    "# !python client.py \"Instruction - When the robot is asking for your feedback, please signal: good.\"\n",
    "# !sleep 8"
   ]
  },
  {
   "cell_type": "code",
   "execution_count": null,
   "metadata": {},
   "outputs": [],
   "source": [
    "!python client.py \"Drone - Audio: AskForFeedback#Rate: good\""
   ]
  },
  {
   "cell_type": "markdown",
   "metadata": {},
   "source": [
    "> {H} [1b] Provide the feedback: good"
   ]
  },
  {
   "cell_type": "code",
   "execution_count": null,
   "metadata": {},
   "outputs": [],
   "source": [
    "!python client.py \"Drone - Move away\"\n",
    "time.sleep(8)"
   ]
  },
  {
   "cell_type": "code",
   "execution_count": null,
   "metadata": {},
   "outputs": [],
   "source": [
    "# !python client.py \"Reset context - 12\""
   ]
  },
  {
   "cell_type": "markdown",
   "metadata": {},
   "source": [
    "----"
   ]
  },
  {
   "cell_type": "code",
   "execution_count": null,
   "metadata": {},
   "outputs": [],
   "source": [
    "!python client.py \"Stop recording - DroneSession3\""
   ]
  },
  {
   "cell_type": "code",
   "execution_count": null,
   "metadata": {},
   "outputs": [],
   "source": []
  },
  {
   "cell_type": "code",
   "execution_count": null,
   "metadata": {},
   "outputs": [],
   "source": []
  },
  {
   "cell_type": "code",
   "execution_count": null,
   "metadata": {},
   "outputs": [],
   "source": []
  }
 ],
 "metadata": {
  "kernelspec": {
   "display_name": "gesturegpt",
   "language": "python",
   "name": "python3"
  },
  "language_info": {
   "codemirror_mode": {
    "name": "ipython",
    "version": 3
   },
   "file_extension": ".py",
   "mimetype": "text/x-python",
   "name": "python",
   "nbconvert_exporter": "python",
   "pygments_lexer": "ipython3",
   "version": "3.11.9"
  }
 },
 "nbformat": 4,
 "nbformat_minor": 2
}
