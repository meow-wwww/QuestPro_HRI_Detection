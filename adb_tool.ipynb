{
 "cells": [
  {
   "cell_type": "code",
   "execution_count": 1,
   "metadata": {},
   "outputs": [],
   "source": [
    "import os"
   ]
  },
  {
   "cell_type": "code",
   "execution_count": 7,
   "metadata": {},
   "outputs": [],
   "source": [
    "# execute the command \"adb shell\" (then we enter the shell )\n",
    "# and then execute \"ls /storage/emulated/0/Android/data/com.DefaultCompany.QuestProHelloWorld/files/\"\n",
    "# then return the shell output\n",
    "\n",
    "def get_files():\n",
    "    return os.popen('adb shell ls /storage/emulated/0/Android/data/com.DefaultCompany.QuestProHelloWorld/files/').read()\n",
    "\n",
    "def get_devices():\n",
    "    return os.popen('adb devices').read()"
   ]
  },
  {
   "cell_type": "code",
   "execution_count": 9,
   "metadata": {},
   "outputs": [
    {
     "name": "stdout",
     "output_type": "stream",
     "text": [
      "adb pull /storage/emulated/0/Android/data/com.DefaultCompany.QuestProHelloWorld/files/FacialExpression_20240722215059719.csv C:\\Users\\HCI\\Data_NVC_2\n",
      "adb pull /storage/emulated/0/Android/data/com.DefaultCompany.QuestProHelloWorld/files/FacialExpression_20240722215827345.csv C:\\Users\\HCI\\Data_NVC_2\n",
      "adb pull /storage/emulated/0/Android/data/com.DefaultCompany.QuestProHelloWorld/files/FacialExpression_20240722220521300.csv C:\\Users\\HCI\\Data_NVC_2\n",
      "adb pull /storage/emulated/0/Android/data/com.DefaultCompany.QuestProHelloWorld/files/Gaze_20240722215059712.csv C:\\Users\\HCI\\Data_NVC_2\n",
      "adb pull /storage/emulated/0/Android/data/com.DefaultCompany.QuestProHelloWorld/files/Gaze_20240722215827343.csv C:\\Users\\HCI\\Data_NVC_2\n",
      "adb pull /storage/emulated/0/Android/data/com.DefaultCompany.QuestProHelloWorld/files/Gaze_20240722220521298.csv C:\\Users\\HCI\\Data_NVC_2\n",
      "adb pull /storage/emulated/0/Android/data/com.DefaultCompany.QuestProHelloWorld/files/Head_20240722215059711.csv C:\\Users\\HCI\\Data_NVC_2\n",
      "adb pull /storage/emulated/0/Android/data/com.DefaultCompany.QuestProHelloWorld/files/Head_20240722215827343.csv C:\\Users\\HCI\\Data_NVC_2\n",
      "adb pull /storage/emulated/0/Android/data/com.DefaultCompany.QuestProHelloWorld/files/Head_20240722220521297.csv C:\\Users\\HCI\\Data_NVC_2\n",
      "adb pull /storage/emulated/0/Android/data/com.DefaultCompany.QuestProHelloWorld/files/Pose_20240722215059720.csv C:\\Users\\HCI\\Data_NVC_2\n",
      "adb pull /storage/emulated/0/Android/data/com.DefaultCompany.QuestProHelloWorld/files/Pose_20240722215827345.csv C:\\Users\\HCI\\Data_NVC_2\n",
      "adb pull /storage/emulated/0/Android/data/com.DefaultCompany.QuestProHelloWorld/files/Pose_20240722220521301.csv C:\\Users\\HCI\\Data_NVC_2\n",
      "adb pull /storage/emulated/0/Android/data/com.DefaultCompany.QuestProHelloWorld/files/recording_2024_07_22_21_51_14_059.mp4 C:\\Users\\HCI\\Data_NVC_2\n",
      "adb pull /storage/emulated/0/Android/data/com.DefaultCompany.QuestProHelloWorld/files/recording_2024_07_22_21_51_14_108.mp4 C:\\Users\\HCI\\Data_NVC_2\n",
      "adb pull /storage/emulated/0/Android/data/com.DefaultCompany.QuestProHelloWorld/files/recording_2024_07_22_21_51_14_146.mp4 C:\\Users\\HCI\\Data_NVC_2\n",
      "adb pull /storage/emulated/0/Android/data/com.DefaultCompany.QuestProHelloWorld/files/recording_2024_07_22_21_58_57_175.mp4 C:\\Users\\HCI\\Data_NVC_2\n",
      "adb pull /storage/emulated/0/Android/data/com.DefaultCompany.QuestProHelloWorld/files/recording_2024_07_22_21_58_57_218.mp4 C:\\Users\\HCI\\Data_NVC_2\n",
      "adb pull /storage/emulated/0/Android/data/com.DefaultCompany.QuestProHelloWorld/files/recording_2024_07_22_21_58_57_249.mp4 C:\\Users\\HCI\\Data_NVC_2\n",
      "adb pull /storage/emulated/0/Android/data/com.DefaultCompany.QuestProHelloWorld/files/recording_2024_07_22_22_05_40_488.mp4 C:\\Users\\HCI\\Data_NVC_2\n",
      "adb pull /storage/emulated/0/Android/data/com.DefaultCompany.QuestProHelloWorld/files/recording_2024_07_22_22_05_40_527.mp4 C:\\Users\\HCI\\Data_NVC_2\n",
      "adb pull /storage/emulated/0/Android/data/com.DefaultCompany.QuestProHelloWorld/files/recording_2024_07_22_22_05_40_564.mp4 C:\\Users\\HCI\\Data_NVC_2\n"
     ]
    }
   ],
   "source": [
    "file_ls = get_files()\n",
    "for file in file_ls.split('\\n'):\n",
    "    if '.' in file:\n",
    "        print(r\"adb pull /storage/emulated/0/Android/data/com.DefaultCompany.QuestProHelloWorld/files/\" + file + r\" C:\\Users\\HCI\\Data_NVC_2\")\n",
    "        # execute the same command in the terminal\n",
    "        os.system(r\"adb pull /storage/emulated/0/Android/data/com.DefaultCompany.QuestProHelloWorld/files/\" + file + r\" C:\\Users\\HCI\\Data_NVC_2\")"
   ]
  },
  {
   "cell_type": "code",
   "execution_count": null,
   "metadata": {},
   "outputs": [],
   "source": []
  }
 ],
 "metadata": {
  "kernelspec": {
   "display_name": "base",
   "language": "python",
   "name": "python3"
  },
  "language_info": {
   "codemirror_mode": {
    "name": "ipython",
    "version": 3
   },
   "file_extension": ".py",
   "mimetype": "text/x-python",
   "name": "python",
   "nbconvert_exporter": "python",
   "pygments_lexer": "ipython3",
   "version": "3.8.3"
  }
 },
 "nbformat": 4,
 "nbformat_minor": 2
}
